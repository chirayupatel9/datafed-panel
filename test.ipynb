{
 "cells": [
  {
   "cell_type": "code",
   "execution_count": 1,
   "metadata": {},
   "outputs": [],
   "source": [
    "from fnmatch import fnmatch\n",
    "import os\n",
    "\n",
    "def _scan_path(path: str, file_pattern='*') -> tuple[list[str], list[str]]:\n",
    "    \"\"\"\n",
    "    Scans the supplied path for files and directories and optionally\n",
    "    filters the files with the file keyword, returning a list of sorted\n",
    "    paths of all directories and files.\n",
    "\n",
    "    Arguments\n",
    "    ---------\n",
    "    path: str\n",
    "        The path to search\n",
    "    file_pattern: str\n",
    "        A glob-like pattern to filter the files\n",
    "\n",
    "    Returns\n",
    "    -------\n",
    "    A sorted list of directory paths, A sorted list of files\n",
    "    \"\"\"\n",
    "    \n",
    "    \n",
    "    paths = [os.path.join(path, p) for p in os.listdir(path)]\n",
    "    dirs = [p for p in paths if os.path.isdir(p)]\n",
    "    files = [p for p in paths if os.path.isfile(p) and\n",
    "             fnmatch(os.path.basename(p), file_pattern)]\n",
    "    for p in paths:\n",
    "        if not os.path.islink(p):\n",
    "            continue\n",
    "        path = os.path.realpath(p)\n",
    "        if os.path.isdir(path):\n",
    "            dirs.append(p)\n",
    "        elif os.path.isfile(path):\n",
    "            dirs.append(p)\n",
    "        else:\n",
    "            continue\n",
    "    return dirs, files"
   ]
  },
  {
   "cell_type": "code",
   "execution_count": 2,
   "metadata": {},
   "outputs": [
    {
     "data": {
      "text/plain": [
       "(['./password', './.git', './.ipynb_checkpoints'],\n",
       " ['./datafed.ipynb', './test.ipynb', './gen_cookie.py', './filebrowser.py'])"
      ]
     },
     "execution_count": 2,
     "metadata": {},
     "output_type": "execute_result"
    }
   ],
   "source": [
    "_scan_path(\"./\")"
   ]
  },
  {
   "cell_type": "code",
   "execution_count": null,
   "metadata": {},
   "outputs": [],
   "source": []
  }
 ],
 "metadata": {
  "kernelspec": {
   "display_name": "panel",
   "language": "python",
   "name": "python3"
  },
  "language_info": {
   "codemirror_mode": {
    "name": "ipython",
    "version": 3
   },
   "file_extension": ".py",
   "mimetype": "text/x-python",
   "name": "python",
   "nbconvert_exporter": "python",
   "pygments_lexer": "ipython3",
   "version": "3.11.9"
  }
 },
 "nbformat": 4,
 "nbformat_minor": 2
}
