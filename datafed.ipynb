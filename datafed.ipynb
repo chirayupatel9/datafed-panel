{
 "cells": [
  {
   "cell_type": "code",
   "execution_count": 1,
   "metadata": {},
   "outputs": [
    {
     "ename": "ZMQError",
     "evalue": "Not supported",
     "output_type": "error",
     "traceback": [
      "\u001b[1;31m---------------------------------------------------------------------------\u001b[0m",
      "\u001b[1;31mFileNotFoundError\u001b[0m                         Traceback (most recent call last)",
      "File \u001b[1;32mc:\\Conda\\envs\\pyqt6\\Lib\\site-packages\\datafed\\MessageLib.py:163\u001b[0m, in \u001b[0;36mAPI.__init__\u001b[1;34m(self, server_host, server_port, server_pub_key_file, server_pub_key, client_pub_key_file, client_pub_key, client_priv_key_file, client_priv_key, client_token, manual_auth, **kwargs)\u001b[0m\n\u001b[0;32m    162\u001b[0m \u001b[38;5;28;01mif\u001b[39;00m client_pub_key_file:\n\u001b[1;32m--> 163\u001b[0m     keyf \u001b[38;5;241m=\u001b[39m \u001b[38;5;28;43mopen\u001b[39;49m\u001b[43m(\u001b[49m\u001b[43mclient_pub_key_file\u001b[49m\u001b[43m,\u001b[49m\u001b[43m \u001b[49m\u001b[38;5;124;43m\"\u001b[39;49m\u001b[38;5;124;43mr\u001b[39;49m\u001b[38;5;124;43m\"\u001b[39;49m\u001b[43m)\u001b[49m\n\u001b[0;32m    164\u001b[0m     _client_pub_key \u001b[38;5;241m=\u001b[39m keyf\u001b[38;5;241m.\u001b[39mread()\n",
      "\u001b[1;31mFileNotFoundError\u001b[0m: [Errno 2] No such file or directory: 'C:/datafed-user-key.pub'",
      "\nDuring handling of the above exception, another exception occurred:\n",
      "\u001b[1;31mZMQError\u001b[0m                                  Traceback (most recent call last)",
      "Cell \u001b[1;32mIn[1], line 4\u001b[0m\n\u001b[0;32m      1\u001b[0m \u001b[38;5;28;01mfrom\u001b[39;00m \u001b[38;5;21;01mdatafed\u001b[39;00m\u001b[38;5;21;01m.\u001b[39;00m\u001b[38;5;21;01mCommandLib\u001b[39;00m \u001b[38;5;28;01mimport\u001b[39;00m API\n\u001b[0;32m      2\u001b[0m \u001b[38;5;28;01mimport\u001b[39;00m \u001b[38;5;21;01mos\u001b[39;00m\n\u001b[1;32m----> 4\u001b[0m df_api \u001b[38;5;241m=\u001b[39m \u001b[43mAPI\u001b[49m\u001b[43m(\u001b[49m\u001b[43m)\u001b[49m\n\u001b[0;32m      6\u001b[0m dv_resp \u001b[38;5;241m=\u001b[39m df_api\u001b[38;5;241m.\u001b[39mdataView(\u001b[38;5;124m\"\u001b[39m\u001b[38;5;124md/249846597\u001b[39m\u001b[38;5;124m\"\u001b[39m)\n",
      "File \u001b[1;32mc:\\Conda\\envs\\pyqt6\\Lib\\site-packages\\datafed\\CommandLib.py:81\u001b[0m, in \u001b[0;36mAPI.__init__\u001b[1;34m(self, opts)\u001b[0m\n\u001b[0;32m     78\u001b[0m \u001b[38;5;28mself\u001b[39m\u001b[38;5;241m.\u001b[39mcfg \u001b[38;5;241m=\u001b[39m Config\u001b[38;5;241m.\u001b[39mAPI(opts)\n\u001b[0;32m     79\u001b[0m _opts \u001b[38;5;241m=\u001b[39m \u001b[38;5;28mself\u001b[39m\u001b[38;5;241m.\u001b[39m_setSaneDefaultOptions()\n\u001b[1;32m---> 81\u001b[0m \u001b[38;5;28mself\u001b[39m\u001b[38;5;241m.\u001b[39m_mapi \u001b[38;5;241m=\u001b[39m \u001b[43mMessageLib\u001b[49m\u001b[38;5;241;43m.\u001b[39;49m\u001b[43mAPI\u001b[49m\u001b[43m(\u001b[49m\u001b[38;5;241;43m*\u001b[39;49m\u001b[38;5;241;43m*\u001b[39;49m\u001b[43m_opts\u001b[49m\u001b[43m)\u001b[49m\n\u001b[0;32m     82\u001b[0m \u001b[38;5;28mself\u001b[39m\u001b[38;5;241m.\u001b[39m_mapi\u001b[38;5;241m.\u001b[39msetNackExceptionEnabled(\u001b[38;5;28;01mTrue\u001b[39;00m)\n\u001b[0;32m     83\u001b[0m auth, uid \u001b[38;5;241m=\u001b[39m \u001b[38;5;28mself\u001b[39m\u001b[38;5;241m.\u001b[39m_mapi\u001b[38;5;241m.\u001b[39mgetAuthStatus()\n",
      "File \u001b[1;32mc:\\Conda\\envs\\pyqt6\\Lib\\site-packages\\datafed\\MessageLib.py:186\u001b[0m, in \u001b[0;36mAPI.__init__\u001b[1;34m(self, server_host, server_port, server_pub_key_file, server_pub_key, client_pub_key_file, client_pub_key, client_priv_key_file, client_priv_key, client_token, manual_auth, **kwargs)\u001b[0m\n\u001b[0;32m    184\u001b[0m     \u001b[38;5;28mprint\u001b[39m\n\u001b[0;32m    185\u001b[0m \u001b[38;5;28;01mexcept\u001b[39;00m \u001b[38;5;167;01mBaseException\u001b[39;00m:\n\u001b[1;32m--> 186\u001b[0m     pub, priv \u001b[38;5;241m=\u001b[39m \u001b[43mzmq\u001b[49m\u001b[38;5;241;43m.\u001b[39;49m\u001b[43mcurve_keypair\u001b[49m\u001b[43m(\u001b[49m\u001b[43m)\u001b[49m\n\u001b[0;32m    187\u001b[0m     _client_pub_key \u001b[38;5;241m=\u001b[39m pub\u001b[38;5;241m.\u001b[39mdecode(\u001b[38;5;124m\"\u001b[39m\u001b[38;5;124mutf-8\u001b[39m\u001b[38;5;124m\"\u001b[39m)\n\u001b[0;32m    188\u001b[0m     _client_priv_key \u001b[38;5;241m=\u001b[39m priv\u001b[38;5;241m.\u001b[39mdecode(\u001b[38;5;124m\"\u001b[39m\u001b[38;5;124mutf-8\u001b[39m\u001b[38;5;124m\"\u001b[39m)\n",
      "File \u001b[1;32mzmq/backend/cython/utils.pyx:60\u001b[0m, in \u001b[0;36mzmq.backend.cython.utils.curve_keypair\u001b[1;34m()\u001b[0m\n",
      "File \u001b[1;32mc:\\Conda\\envs\\pyqt6\\Lib\\site-packages\\zmq\\error.py:149\u001b[0m, in \u001b[0;36m_check_rc\u001b[1;34m(rc, errno, error_without_errno)\u001b[0m\n\u001b[0;32m    147\u001b[0m     \u001b[38;5;28;01mraise\u001b[39;00m ContextTerminated(errno)\n\u001b[0;32m    148\u001b[0m \u001b[38;5;28;01melse\u001b[39;00m:\n\u001b[1;32m--> 149\u001b[0m     \u001b[38;5;28;01mraise\u001b[39;00m ZMQError(errno)\n",
      "\u001b[1;31mZMQError\u001b[0m: Not supported"
     ]
    }
   ],
   "source": [
    "from datafed.CommandLib import API\n",
    "import os\n",
    "\n",
    "df_api = API()\n",
    "\n",
    "dv_resp = df_api.dataView(\"d/249846597\")"
   ]
  },
  {
   "cell_type": "code",
   "execution_count": null,
   "metadata": {},
   "outputs": [],
   "source": []
  }
 ],
 "metadata": {
  "kernelspec": {
   "display_name": "pyqt6",
   "language": "python",
   "name": "python3"
  },
  "language_info": {
   "codemirror_mode": {
    "name": "ipython",
    "version": 3
   },
   "file_extension": ".py",
   "mimetype": "text/x-python",
   "name": "python",
   "nbconvert_exporter": "python",
   "pygments_lexer": "ipython3",
   "version": "3.11.9"
  }
 },
 "nbformat": 4,
 "nbformat_minor": 2
}
